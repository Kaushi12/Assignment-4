{
 "cells": [
  {
   "cell_type": "code",
   "execution_count": 8,
   "metadata": {},
   "outputs": [],
   "source": [
    "#ARRAY ROTATION\n",
    "def rotate(nums,k):\n",
    "        nums=[1,2,3,4,5]\n",
    "        n = len(nums)\n",
    "        k %= n\n",
    "        start = count = 0\n",
    "        while count < n:\n",
    "            current, prev = start, nums[start]\n",
    "            while True:\n",
    "                next_idx = (current + k) % n\n",
    "                nums[next_idx], prev = prev, nums[next_idx]\n",
    "                current = next_idx\n",
    "                count += 1\n",
    "                \n",
    "                if start == current:\n",
    "                    break\n",
    "            start += 1\n",
    "            print(nums)"
   ]
  },
  {
   "cell_type": "code",
   "execution_count": 9,
   "metadata": {},
   "outputs": [
    {
     "name": "stdout",
     "output_type": "stream",
     "text": [
      "[4, 5, 1, 2, 3]\n"
     ]
    }
   ],
   "source": [
    "rotate([1,2,3,4,5],2)"
   ]
  },
  {
   "cell_type": "code",
   "execution_count": 8,
   "metadata": {},
   "outputs": [],
   "source": [
    "#Ques2:Minimum Difference\n",
    "MAX_VAL=100000000\n",
    "def solution(arr, x) :\n",
    " \n",
    "    # Sort the array\n",
    "    arr.sort();\n",
    "     \n",
    "    # To store the closets sum\n",
    "    closestSum = MAX_VAL;\n",
    " \n",
    "    # Fix the smallest number among\n",
    "    # the three integers\n",
    "    for i in range(len(arr)-2) :\n",
    " \n",
    "        # Two pointers initially pointing at\n",
    "        # the last and the element\n",
    "        # next to the fixed element\n",
    "        ptr1 = i + 1; ptr2 = len(arr) - 1;\n",
    " \n",
    "        # While there could be more pairs to check\n",
    "        while (ptr1 < ptr2) :\n",
    " \n",
    "            # Calculate the sum of the current triplet\n",
    "            sum = arr[i] + arr[ptr1] + arr[ptr2];\n",
    " \n",
    "            # If the sum is more closer than\n",
    "            # the current closest sum\n",
    "            if (abs(x - sum) < abs(x - closestSum)) :\n",
    "                closestSum = sum;\n",
    "                diff=(x-closestSum)\n",
    " \n",
    "            # If sum is greater then x then decrement\n",
    "            # the second pointer to get a smaller sum\n",
    "            if (sum > x) :\n",
    "                ptr2 -= 1;\n",
    " \n",
    "            # Else increment the first pointer\n",
    "            # to get a larger sum\n",
    "            else :\n",
    "                ptr1 += 1;\n",
    " \n",
    "    # Return the closest sum found\n",
    "    return diff;\n",
    "    \n",
    "    \n",
    "\n",
    "        \n",
    "            \n",
    "    "
   ]
  },
  {
   "cell_type": "code",
   "execution_count": 11,
   "metadata": {},
   "outputs": [
    {
     "data": {
      "text/plain": [
       "0"
      ]
     },
     "execution_count": 11,
     "metadata": {},
     "output_type": "execute_result"
    }
   ],
   "source": [
    "solution([1,2,5,9,12],15)"
   ]
  },
  {
   "cell_type": "code",
   "execution_count": 13,
   "metadata": {},
   "outputs": [],
   "source": [
    "#MAXIMUM SUBARRAY PROBLEM\n",
    "from sys import maxsize\n",
    " \n",
    "# Function to find the maximum contiguous subarray\n",
    "# and print its starting and end index\n",
    "def maxSubArraySum(a,size):\n",
    " \n",
    "    max_so_far = -maxsize - 1\n",
    "    max_ending_here = 0\n",
    "    start = 0\n",
    "    end = 0\n",
    "    s = 0\n",
    " \n",
    "    for i in range(0,size):\n",
    " \n",
    "        max_ending_here += a[i]\n",
    " \n",
    "        if max_so_far < max_ending_here:\n",
    "            max_so_far = max_ending_here\n",
    "            start = s\n",
    "            end = i\n",
    " \n",
    "        if max_ending_here < 0:\n",
    "            max_ending_here = 0\n",
    "            s = i+1\n",
    " \n",
    "    print (\"Maximum contiguous sum is %d\"%(max_so_far))"
   ]
  },
  {
   "cell_type": "code",
   "execution_count": 15,
   "metadata": {},
   "outputs": [
    {
     "name": "stdout",
     "output_type": "stream",
     "text": [
      "Maximum contiguous sum is 7\n"
     ]
    }
   ],
   "source": [
    "a=[-2,-5,6,-2,-3,1,5,-6]\n",
    "maxSubArraySum(a,len(a))\n"
   ]
  },
  {
   "cell_type": "code",
   "execution_count": null,
   "metadata": {},
   "outputs": [],
   "source": []
  }
 ],
 "metadata": {
  "kernelspec": {
   "display_name": "Python 3",
   "language": "python",
   "name": "python3"
  },
  "language_info": {
   "codemirror_mode": {
    "name": "ipython",
    "version": 3
   },
   "file_extension": ".py",
   "mimetype": "text/x-python",
   "name": "python",
   "nbconvert_exporter": "python",
   "pygments_lexer": "ipython3",
   "version": "3.8.5"
  }
 },
 "nbformat": 4,
 "nbformat_minor": 4
}
